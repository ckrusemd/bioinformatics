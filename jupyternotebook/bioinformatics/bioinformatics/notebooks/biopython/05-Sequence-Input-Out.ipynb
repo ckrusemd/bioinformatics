{
 "metadata": {
  "language_info": {
   "codemirror_mode": {
    "name": "ipython",
    "version": 3
   },
   "file_extension": ".py",
   "mimetype": "text/x-python",
   "name": "python",
   "nbconvert_exporter": "python",
   "pygments_lexer": "ipython3",
   "version": "3.8.5"
  },
  "orig_nbformat": 2,
  "kernelspec": {
   "name": "python385jvsc74a57bd04cd7ab41f5fca4b9b44701077e38c5ffd31fe66a6cab21e0214b68d958d0e462",
   "display_name": "Python 3.8.5 64-bit"
  },
  "metadata": {
   "interpreter": {
    "hash": "4cd7ab41f5fca4b9b44701077e38c5ffd31fe66a6cab21e0214b68d958d0e462"
   }
  }
 },
 "nbformat": 4,
 "nbformat_minor": 2,
 "cells": [
  {
   "source": [
    "# Chapter 5: Sequence Input/Output"
   ],
   "cell_type": "markdown",
   "metadata": {}
  },
  {
   "source": [
    "* Focusing on the **Bio.SeqIO** module\n",
    "* You will be working with **SeqRecord objects** (see Chapter 4), which contain a **Seq** object (see Chapter 3) plus annotation like an identifier and description\n",
    "\n",
    "* Note that when dealing with very large FASTA or FASTQ \fles, the overhead of working with all these objects can make scripts too slow. \n",
    "* In this case consider the low-level SimpleFastaParser and FastqGeneralIterator parsers which return just a tuple of strings for each record (see Section 5.6)."
   ],
   "cell_type": "markdown",
   "metadata": {}
  },
  {
   "cell_type": "code",
   "execution_count": 55,
   "metadata": {},
   "outputs": [],
   "source": [
    "import json\n",
    "def pretty_print_json(json_):\n",
    "    print(json.dumps(json_, indent=4, sort_keys=True))"
   ]
  },
  {
   "source": [
    "# 5.1 Parsing or Reading Sequences"
   ],
   "cell_type": "markdown",
   "metadata": {
    "tags": []
   }
  },
  {
   "source": [
    "* Bio.SeqIO.parse()\n",
    "* The Bio.SeqIO.parse() function returns an iterator which gives SeqRecord objects. Iterators are\n",
    "typically used in a for loop as shown below."
   ],
   "cell_type": "markdown",
   "metadata": {}
  },
  {
   "source": [
    "## 5.1.1 Reading Sequence Files"
   ],
   "cell_type": "markdown",
   "metadata": {}
  },
  {
   "cell_type": "code",
   "execution_count": null,
   "metadata": {},
   "outputs": [],
   "source": []
  },
  {
   "cell_type": "code",
   "execution_count": 7,
   "metadata": {},
   "outputs": [],
   "source": [
    "import wget\n",
    "import tempfile\n",
    "path = tempfile.mkdtemp()\n",
    "\n",
    "url = \"https://raw.githubusercontent.com/biopython/biopython/master/Doc/examples/ls_orchid.fasta\"\n",
    "wget.download(url, out=path)\n",
    "url = \"https://raw.githubusercontent.com/biopython/biopython/master/Doc/examples/ls_orchid.gbk\"\n",
    "wget.download(url, out=path)\n",
    "\n",
    "from pathlib import Path\n",
    "fasta_path = Path(path + \"/ls_orchid.fasta\")\n",
    "genbank_path = Path(path + \"/ls_orchid.gbk\")"
   ]
  },
  {
   "cell_type": "code",
   "execution_count": 14,
   "metadata": {},
   "outputs": [
    {
     "output_type": "execute_result",
     "data": {
      "text/plain": [
       "<Bio.SeqIO.FastaIO.FastaIterator at 0x7f8b2e1502b0>"
      ]
     },
     "metadata": {},
     "execution_count": 14
    }
   ],
   "source": [
    "SeqIO.parse(fasta_path, \"fasta\")"
   ]
  },
  {
   "cell_type": "code",
   "execution_count": 15,
   "metadata": {},
   "outputs": [
    {
     "output_type": "execute_result",
     "data": {
      "text/plain": [
       "<Bio.SeqIO.InsdcIO.GenBankIterator at 0x7f8b2e150d00>"
      ]
     },
     "metadata": {},
     "execution_count": 15
    }
   ],
   "source": [
    "SeqIO.parse(genbank_path, \"genbank\")"
   ]
  },
  {
   "cell_type": "code",
   "execution_count": 11,
   "metadata": {},
   "outputs": [
    {
     "output_type": "stream",
     "name": "stdout",
     "text": [
      "gi|2765658|emb|Z78533.1|CIZ78533\ngi|2765657|emb|Z78532.1|CCZ78532\ngi|2765656|emb|Z78531.1|CFZ78531\ngi|2765655|emb|Z78530.1|CMZ78530\ngi|2765654|emb|Z78529.1|CLZ78529\ngi|2765652|emb|Z78527.1|CYZ78527\ngi|2765651|emb|Z78526.1|CGZ78526\ngi|2765650|emb|Z78525.1|CAZ78525\ngi|2765649|emb|Z78524.1|CFZ78524\ngi|2765648|emb|Z78523.1|CHZ78523\ngi|2765647|emb|Z78522.1|CMZ78522\ngi|2765646|emb|Z78521.1|CCZ78521\ngi|2765645|emb|Z78520.1|CSZ78520\ngi|2765644|emb|Z78519.1|CPZ78519\ngi|2765643|emb|Z78518.1|CRZ78518\ngi|2765642|emb|Z78517.1|CFZ78517\ngi|2765641|emb|Z78516.1|CPZ78516\ngi|2765640|emb|Z78515.1|MXZ78515\ngi|2765639|emb|Z78514.1|PSZ78514\ngi|2765638|emb|Z78513.1|PBZ78513\ngi|2765637|emb|Z78512.1|PWZ78512\ngi|2765636|emb|Z78511.1|PEZ78511\ngi|2765635|emb|Z78510.1|PCZ78510\ngi|2765634|emb|Z78509.1|PPZ78509\ngi|2765633|emb|Z78508.1|PLZ78508\ngi|2765632|emb|Z78507.1|PLZ78507\ngi|2765631|emb|Z78506.1|PLZ78506\ngi|2765630|emb|Z78505.1|PSZ78505\ngi|2765629|emb|Z78504.1|PKZ78504\ngi|2765628|emb|Z78503.1|PCZ78503\ngi|2765627|emb|Z78502.1|PBZ78502\ngi|2765626|emb|Z78501.1|PCZ78501\ngi|2765625|emb|Z78500.1|PWZ78500\ngi|2765624|emb|Z78499.1|PMZ78499\ngi|2765623|emb|Z78498.1|PMZ78498\ngi|2765622|emb|Z78497.1|PDZ78497\ngi|2765621|emb|Z78496.1|PAZ78496\ngi|2765620|emb|Z78495.1|PEZ78495\ngi|2765619|emb|Z78494.1|PNZ78494\ngi|2765618|emb|Z78493.1|PGZ78493\ngi|2765617|emb|Z78492.1|PBZ78492\ngi|2765616|emb|Z78491.1|PCZ78491\ngi|2765615|emb|Z78490.1|PFZ78490\ngi|2765614|emb|Z78489.1|PDZ78489\ngi|2765613|emb|Z78488.1|PTZ78488\ngi|2765612|emb|Z78487.1|PHZ78487\ngi|2765611|emb|Z78486.1|PBZ78486\ngi|2765610|emb|Z78485.1|PHZ78485\ngi|2765609|emb|Z78484.1|PCZ78484\ngi|2765608|emb|Z78483.1|PVZ78483\ngi|2765607|emb|Z78482.1|PEZ78482\ngi|2765606|emb|Z78481.1|PIZ78481\ngi|2765605|emb|Z78480.1|PGZ78480\ngi|2765604|emb|Z78479.1|PPZ78479\ngi|2765603|emb|Z78478.1|PVZ78478\ngi|2765602|emb|Z78477.1|PVZ78477\ngi|2765601|emb|Z78476.1|PGZ78476\ngi|2765600|emb|Z78475.1|PSZ78475\ngi|2765599|emb|Z78474.1|PKZ78474\ngi|2765598|emb|Z78473.1|PSZ78473\ngi|2765597|emb|Z78472.1|PLZ78472\ngi|2765596|emb|Z78471.1|PDZ78471\ngi|2765595|emb|Z78470.1|PPZ78470\ngi|2765594|emb|Z78469.1|PHZ78469\ngi|2765593|emb|Z78468.1|PAZ78468\ngi|2765592|emb|Z78467.1|PSZ78467\ngi|2765591|emb|Z78466.1|PPZ78466\ngi|2765590|emb|Z78465.1|PRZ78465\ngi|2765589|emb|Z78464.1|PGZ78464\ngi|2765588|emb|Z78463.1|PGZ78463\ngi|2765587|emb|Z78462.1|PSZ78462\ngi|2765586|emb|Z78461.1|PWZ78461\ngi|2765585|emb|Z78460.1|PCZ78460\ngi|2765584|emb|Z78459.1|PDZ78459\ngi|2765583|emb|Z78458.1|PHZ78458\ngi|2765582|emb|Z78457.1|PCZ78457\ngi|2765581|emb|Z78456.1|PTZ78456\ngi|2765580|emb|Z78455.1|PJZ78455\ngi|2765579|emb|Z78454.1|PFZ78454\ngi|2765578|emb|Z78453.1|PSZ78453\ngi|2765577|emb|Z78452.1|PBZ78452\ngi|2765576|emb|Z78451.1|PHZ78451\ngi|2765575|emb|Z78450.1|PPZ78450\ngi|2765574|emb|Z78449.1|PMZ78449\ngi|2765573|emb|Z78448.1|PAZ78448\ngi|2765572|emb|Z78447.1|PVZ78447\ngi|2765571|emb|Z78446.1|PAZ78446\ngi|2765570|emb|Z78445.1|PUZ78445\ngi|2765569|emb|Z78444.1|PAZ78444\ngi|2765568|emb|Z78443.1|PLZ78443\ngi|2765567|emb|Z78442.1|PBZ78442\ngi|2765566|emb|Z78441.1|PSZ78441\ngi|2765565|emb|Z78440.1|PPZ78440\ngi|2765564|emb|Z78439.1|PBZ78439\nZ78533.1\nZ78532.1\nZ78531.1\nZ78530.1\nZ78529.1\nZ78527.1\nZ78526.1\nZ78525.1\nZ78524.1\nZ78523.1\nZ78522.1\nZ78521.1\nZ78520.1\nZ78519.1\nZ78518.1\nZ78517.1\nZ78516.1\nZ78515.1\nZ78514.1\nZ78513.1\nZ78512.1\nZ78511.1\nZ78510.1\nZ78509.1\nZ78508.1\nZ78507.1\nZ78506.1\nZ78505.1\nZ78504.1\nZ78503.1\nZ78502.1\nZ78501.1\nZ78500.1\nZ78499.1\nZ78498.1\nZ78497.1\nZ78496.1\nZ78495.1\nZ78494.1\nZ78493.1\nZ78492.1\nZ78491.1\nZ78490.1\nZ78489.1\nZ78488.1\nZ78487.1\nZ78486.1\nZ78485.1\nZ78484.1\nZ78483.1\nZ78482.1\nZ78481.1\nZ78480.1\nZ78479.1\nZ78478.1\nZ78477.1\nZ78476.1\nZ78475.1\nZ78474.1\nZ78473.1\nZ78472.1\nZ78471.1\nZ78470.1\nZ78469.1\nZ78468.1\nZ78467.1\nZ78466.1\nZ78465.1\nZ78464.1\nZ78463.1\nZ78462.1\nZ78461.1\nZ78460.1\nZ78459.1\nZ78458.1\nZ78457.1\nZ78456.1\nZ78455.1\nZ78454.1\nZ78453.1\nZ78452.1\nZ78451.1\nZ78450.1\nZ78449.1\nZ78448.1\nZ78447.1\nZ78446.1\nZ78445.1\nZ78444.1\nZ78443.1\nZ78442.1\nZ78441.1\nZ78440.1\nZ78439.1\n"
     ]
    }
   ],
   "source": [
    "from Bio import SeqIO\n",
    "for seq_record in SeqIO.parse(fasta_path, \"fasta\"):\n",
    "    print(seq_record.id)\n",
    "    #print(repr(seq_record.seq))\n",
    "    #print(len(seq_record))\n",
    "for seq_record in SeqIO.parse(genbank_path, \"genbank\"):\n",
    "    print(seq_record.id)\n",
    "    #print(repr(seq_record.seq))\n",
    "    #print(len(seq_record))"
   ]
  },
  {
   "source": [
    "## Select specific properties"
   ],
   "cell_type": "markdown",
   "metadata": {}
  },
  {
   "cell_type": "code",
   "execution_count": 13,
   "metadata": {},
   "outputs": [
    {
     "output_type": "execute_result",
     "data": {
      "text/plain": [
       "['gi|2765658|emb|Z78533.1|CIZ78533',\n",
       " 'gi|2765657|emb|Z78532.1|CCZ78532',\n",
       " 'gi|2765656|emb|Z78531.1|CFZ78531',\n",
       " 'gi|2765655|emb|Z78530.1|CMZ78530',\n",
       " 'gi|2765654|emb|Z78529.1|CLZ78529',\n",
       " 'gi|2765652|emb|Z78527.1|CYZ78527',\n",
       " 'gi|2765651|emb|Z78526.1|CGZ78526',\n",
       " 'gi|2765650|emb|Z78525.1|CAZ78525',\n",
       " 'gi|2765649|emb|Z78524.1|CFZ78524',\n",
       " 'gi|2765648|emb|Z78523.1|CHZ78523',\n",
       " 'gi|2765647|emb|Z78522.1|CMZ78522',\n",
       " 'gi|2765646|emb|Z78521.1|CCZ78521',\n",
       " 'gi|2765645|emb|Z78520.1|CSZ78520',\n",
       " 'gi|2765644|emb|Z78519.1|CPZ78519',\n",
       " 'gi|2765643|emb|Z78518.1|CRZ78518',\n",
       " 'gi|2765642|emb|Z78517.1|CFZ78517',\n",
       " 'gi|2765641|emb|Z78516.1|CPZ78516',\n",
       " 'gi|2765640|emb|Z78515.1|MXZ78515',\n",
       " 'gi|2765639|emb|Z78514.1|PSZ78514',\n",
       " 'gi|2765638|emb|Z78513.1|PBZ78513',\n",
       " 'gi|2765637|emb|Z78512.1|PWZ78512',\n",
       " 'gi|2765636|emb|Z78511.1|PEZ78511',\n",
       " 'gi|2765635|emb|Z78510.1|PCZ78510',\n",
       " 'gi|2765634|emb|Z78509.1|PPZ78509',\n",
       " 'gi|2765633|emb|Z78508.1|PLZ78508',\n",
       " 'gi|2765632|emb|Z78507.1|PLZ78507',\n",
       " 'gi|2765631|emb|Z78506.1|PLZ78506',\n",
       " 'gi|2765630|emb|Z78505.1|PSZ78505',\n",
       " 'gi|2765629|emb|Z78504.1|PKZ78504',\n",
       " 'gi|2765628|emb|Z78503.1|PCZ78503',\n",
       " 'gi|2765627|emb|Z78502.1|PBZ78502',\n",
       " 'gi|2765626|emb|Z78501.1|PCZ78501',\n",
       " 'gi|2765625|emb|Z78500.1|PWZ78500',\n",
       " 'gi|2765624|emb|Z78499.1|PMZ78499',\n",
       " 'gi|2765623|emb|Z78498.1|PMZ78498',\n",
       " 'gi|2765622|emb|Z78497.1|PDZ78497',\n",
       " 'gi|2765621|emb|Z78496.1|PAZ78496',\n",
       " 'gi|2765620|emb|Z78495.1|PEZ78495',\n",
       " 'gi|2765619|emb|Z78494.1|PNZ78494',\n",
       " 'gi|2765618|emb|Z78493.1|PGZ78493',\n",
       " 'gi|2765617|emb|Z78492.1|PBZ78492',\n",
       " 'gi|2765616|emb|Z78491.1|PCZ78491',\n",
       " 'gi|2765615|emb|Z78490.1|PFZ78490',\n",
       " 'gi|2765614|emb|Z78489.1|PDZ78489',\n",
       " 'gi|2765613|emb|Z78488.1|PTZ78488',\n",
       " 'gi|2765612|emb|Z78487.1|PHZ78487',\n",
       " 'gi|2765611|emb|Z78486.1|PBZ78486',\n",
       " 'gi|2765610|emb|Z78485.1|PHZ78485',\n",
       " 'gi|2765609|emb|Z78484.1|PCZ78484',\n",
       " 'gi|2765608|emb|Z78483.1|PVZ78483',\n",
       " 'gi|2765607|emb|Z78482.1|PEZ78482',\n",
       " 'gi|2765606|emb|Z78481.1|PIZ78481',\n",
       " 'gi|2765605|emb|Z78480.1|PGZ78480',\n",
       " 'gi|2765604|emb|Z78479.1|PPZ78479',\n",
       " 'gi|2765603|emb|Z78478.1|PVZ78478',\n",
       " 'gi|2765602|emb|Z78477.1|PVZ78477',\n",
       " 'gi|2765601|emb|Z78476.1|PGZ78476',\n",
       " 'gi|2765600|emb|Z78475.1|PSZ78475',\n",
       " 'gi|2765599|emb|Z78474.1|PKZ78474',\n",
       " 'gi|2765598|emb|Z78473.1|PSZ78473',\n",
       " 'gi|2765597|emb|Z78472.1|PLZ78472',\n",
       " 'gi|2765596|emb|Z78471.1|PDZ78471',\n",
       " 'gi|2765595|emb|Z78470.1|PPZ78470',\n",
       " 'gi|2765594|emb|Z78469.1|PHZ78469',\n",
       " 'gi|2765593|emb|Z78468.1|PAZ78468',\n",
       " 'gi|2765592|emb|Z78467.1|PSZ78467',\n",
       " 'gi|2765591|emb|Z78466.1|PPZ78466',\n",
       " 'gi|2765590|emb|Z78465.1|PRZ78465',\n",
       " 'gi|2765589|emb|Z78464.1|PGZ78464',\n",
       " 'gi|2765588|emb|Z78463.1|PGZ78463',\n",
       " 'gi|2765587|emb|Z78462.1|PSZ78462',\n",
       " 'gi|2765586|emb|Z78461.1|PWZ78461',\n",
       " 'gi|2765585|emb|Z78460.1|PCZ78460',\n",
       " 'gi|2765584|emb|Z78459.1|PDZ78459',\n",
       " 'gi|2765583|emb|Z78458.1|PHZ78458',\n",
       " 'gi|2765582|emb|Z78457.1|PCZ78457',\n",
       " 'gi|2765581|emb|Z78456.1|PTZ78456',\n",
       " 'gi|2765580|emb|Z78455.1|PJZ78455',\n",
       " 'gi|2765579|emb|Z78454.1|PFZ78454',\n",
       " 'gi|2765578|emb|Z78453.1|PSZ78453',\n",
       " 'gi|2765577|emb|Z78452.1|PBZ78452',\n",
       " 'gi|2765576|emb|Z78451.1|PHZ78451',\n",
       " 'gi|2765575|emb|Z78450.1|PPZ78450',\n",
       " 'gi|2765574|emb|Z78449.1|PMZ78449',\n",
       " 'gi|2765573|emb|Z78448.1|PAZ78448',\n",
       " 'gi|2765572|emb|Z78447.1|PVZ78447',\n",
       " 'gi|2765571|emb|Z78446.1|PAZ78446',\n",
       " 'gi|2765570|emb|Z78445.1|PUZ78445',\n",
       " 'gi|2765569|emb|Z78444.1|PAZ78444',\n",
       " 'gi|2765568|emb|Z78443.1|PLZ78443',\n",
       " 'gi|2765567|emb|Z78442.1|PBZ78442',\n",
       " 'gi|2765566|emb|Z78441.1|PSZ78441',\n",
       " 'gi|2765565|emb|Z78440.1|PPZ78440',\n",
       " 'gi|2765564|emb|Z78439.1|PBZ78439']"
      ]
     },
     "metadata": {},
     "execution_count": 13
    }
   ],
   "source": [
    "from Bio import SeqIO\n",
    "identifiers = [seq_record.id for seq_record in SeqIO.parse(fasta_path, \"fasta\") ]\n",
    "identifiers"
   ]
  },
  {
   "source": [
    "## 5.1.2 Iterating over the records in a sequence \ffile\n",
    "\n",
    "Use the ```next``` iterator."
   ],
   "cell_type": "markdown",
   "metadata": {}
  },
  {
   "cell_type": "code",
   "execution_count": 19,
   "metadata": {},
   "outputs": [
    {
     "output_type": "execute_result",
     "data": {
      "text/plain": [
       "<Bio.SeqIO.FastaIO.FastaIterator at 0x7f8b2e150ca0>"
      ]
     },
     "metadata": {},
     "execution_count": 19
    }
   ],
   "source": [
    "from Bio import SeqIO\n",
    "record_iterator = SeqIO.parse(fasta_path, \"fasta\") \n",
    "record_iterator"
   ]
  },
  {
   "source": [
    "### First record"
   ],
   "cell_type": "markdown",
   "metadata": {}
  },
  {
   "cell_type": "code",
   "execution_count": 20,
   "metadata": {},
   "outputs": [
    {
     "output_type": "execute_result",
     "data": {
      "text/plain": [
       "SeqRecord(seq=Seq('CGTAACAAGGTTTCCGTAGGTGAACCTGCGGAAGGATCATTGATGAGACCGTGG...CGC'), id='gi|2765658|emb|Z78533.1|CIZ78533', name='gi|2765658|emb|Z78533.1|CIZ78533', description='gi|2765658|emb|Z78533.1|CIZ78533 C.irapeanum 5.8S rRNA gene and ITS1 and ITS2 DNA', dbxrefs=[])"
      ]
     },
     "metadata": {},
     "execution_count": 20
    }
   ],
   "source": [
    "first_record = next(record_iterator)\n",
    "first_record"
   ]
  },
  {
   "cell_type": "code",
   "execution_count": 21,
   "metadata": {},
   "outputs": [
    {
     "output_type": "stream",
     "name": "stdout",
     "text": [
      "gi|2765658|emb|Z78533.1|CIZ78533\ngi|2765658|emb|Z78533.1|CIZ78533 C.irapeanum 5.8S rRNA gene and ITS1 and ITS2 DNA\n"
     ]
    }
   ],
   "source": [
    "print(first_record.id)\n",
    "print(first_record.description)"
   ]
  },
  {
   "source": [
    "### Second record"
   ],
   "cell_type": "markdown",
   "metadata": {}
  },
  {
   "cell_type": "code",
   "execution_count": 24,
   "metadata": {},
   "outputs": [
    {
     "output_type": "stream",
     "name": "stdout",
     "text": [
      "gi|2765656|emb|Z78531.1|CFZ78531\ngi|2765656|emb|Z78531.1|CFZ78531 C.fasciculatum 5.8S rRNA gene and ITS1 and ITS2 DNA\n"
     ]
    }
   ],
   "source": [
    "second_record = next(record_iterator)\n",
    "print(second_record.id)\n",
    "print(second_record.description)"
   ]
  },
  {
   "source": [
    "## 5.1.3 Getting a list of the records in a sequence \fle"
   ],
   "cell_type": "markdown",
   "metadata": {}
  },
  {
   "cell_type": "code",
   "execution_count": 26,
   "metadata": {},
   "outputs": [
    {
     "output_type": "stream",
     "name": "stdout",
     "text": [
      "Found 94 records\nThe last record\n"
     ]
    }
   ],
   "source": [
    "from Bio import SeqIO\n",
    "records = list(SeqIO.parse(genbank_path, \"genbank\"))\n",
    "print(\"Found %i records\" % len(records))\n",
    "print(\"The last record\")"
   ]
  },
  {
   "cell_type": "code",
   "execution_count": 27,
   "metadata": {},
   "outputs": [
    {
     "output_type": "execute_result",
     "data": {
      "text/plain": [
       "[SeqRecord(seq=Seq('CGTAACAAGGTTTCCGTAGGTGAACCTGCGGAAGGATCATTGATGAGACCGTGG...CGC'), id='Z78533.1', name='Z78533', description='C.irapeanum 5.8S rRNA gene and ITS1 and ITS2 DNA', dbxrefs=[]),\n",
       " SeqRecord(seq=Seq('CGTAACAAGGTTTCCGTAGGTGAACCTGCGGAAGGATCATTGTTGAGACAACAG...GGC'), id='Z78532.1', name='Z78532', description='C.californicum 5.8S rRNA gene and ITS1 and ITS2 DNA', dbxrefs=[]),\n",
       " SeqRecord(seq=Seq('CGTAACAAGGTTTCCGTAGGTGAACCTGCGGAAGGATCATTGTTGAGACAGCAG...TAA'), id='Z78531.1', name='Z78531', description='C.fasciculatum 5.8S rRNA gene and ITS1 and ITS2 DNA', dbxrefs=[]),\n",
       " SeqRecord(seq=Seq('CGTAACAAGGTTTCCGTAGGTGAACCTGCGGAAGGATCATTGTTGAAACAACAT...CAT'), id='Z78530.1', name='Z78530', description='C.margaritaceum 5.8S rRNA gene and ITS1 and ITS2 DNA', dbxrefs=[]),\n",
       " SeqRecord(seq=Seq('ACGGCGAGCTGCCGAAGGACATTGTTGAGACAGCAGAATATACGATTGAGTGAA...AAA'), id='Z78529.1', name='Z78529', description='C.lichiangense 5.8S rRNA gene and ITS1 and ITS2 DNA', dbxrefs=[])]"
      ]
     },
     "metadata": {},
     "execution_count": 27
    }
   ],
   "source": [
    "records[0:5]"
   ]
  },
  {
   "cell_type": "code",
   "execution_count": 28,
   "metadata": {},
   "outputs": [
    {
     "output_type": "stream",
     "name": "stdout",
     "text": [
      "Z78439.1\nSeq('CATTGTTGAGATCACATAATAATTGATCGAGTTAATCTGGAGGATCTGTTTACT...GCC')\n592\nThe first record\n"
     ]
    }
   ],
   "source": [
    "\n",
    "last_record = records[-1] # using Pythons list tricks\n",
    "print(last_record.id)\n",
    "print(repr(last_record.seq))\n",
    "print(len(last_record))\n",
    "print(\"The first record\")"
   ]
  },
  {
   "cell_type": "code",
   "execution_count": 29,
   "metadata": {},
   "outputs": [
    {
     "output_type": "stream",
     "name": "stdout",
     "text": [
      "Z78533.1\nSeq('CGTAACAAGGTTTCCGTAGGTGAACCTGCGGAAGGATCATTGATGAGACCGTGG...CGC')\n740\n"
     ]
    }
   ],
   "source": [
    "\n",
    "first_record = records[0] # remember, Python counts from zero\n",
    "print(first_record.id)\n",
    "print(repr(first_record.seq))\n",
    "print(len(first_record))"
   ]
  },
  {
   "source": [
    "## 5.1.4 Extracting data"
   ],
   "cell_type": "markdown",
   "metadata": {}
  },
  {
   "cell_type": "code",
   "execution_count": 31,
   "metadata": {},
   "outputs": [
    {
     "output_type": "stream",
     "name": "stdout",
     "text": [
      "ID: Z78533.1\nName: Z78533\nDescription: C.irapeanum 5.8S rRNA gene and ITS1 and ITS2 DNA\nNumber of features: 5\n/molecule_type=DNA\n/topology=linear\n/data_file_division=PLN\n/date=30-NOV-2006\n/accessions=['Z78533']\n/sequence_version=1\n/gi=2765658\n/keywords=['5.8S ribosomal RNA', '5.8S rRNA gene', 'internal transcribed spacer', 'ITS1', 'ITS2']\n/source=Cypripedium irapeanum\n/organism=Cypripedium irapeanum\n/taxonomy=['Eukaryota', 'Viridiplantae', 'Streptophyta', 'Embryophyta', 'Tracheophyta', 'Spermatophyta', 'Magnoliophyta', 'Liliopsida', 'Asparagales', 'Orchidaceae', 'Cypripedioideae', 'Cypripedium']\n/references=[Reference(title='Phylogenetics of the slipper orchids (Cypripedioideae: Orchidaceae): nuclear rDNA ITS sequences', ...), Reference(title='Direct Submission', ...)]\nSeq('CGTAACAAGGTTTCCGTAGGTGAACCTGCGGAAGGATCATTGATGAGACCGTGG...CGC')\n"
     ]
    }
   ],
   "source": [
    "from Bio import SeqIO\n",
    "record_iterator = SeqIO.parse(genbank_path, \"genbank\")\n",
    "first_record = next(record_iterator)\n",
    "print(first_record)"
   ]
  },
  {
   "cell_type": "code",
   "execution_count": 32,
   "metadata": {},
   "outputs": [
    {
     "output_type": "stream",
     "name": "stdout",
     "text": [
      "{'molecule_type': 'DNA', 'topology': 'linear', 'data_file_division': 'PLN', 'date': '30-NOV-2006', 'accessions': ['Z78533'], 'sequence_version': 1, 'gi': '2765658', 'keywords': ['5.8S ribosomal RNA', '5.8S rRNA gene', 'internal transcribed spacer', 'ITS1', 'ITS2'], 'source': 'Cypripedium irapeanum', 'organism': 'Cypripedium irapeanum', 'taxonomy': ['Eukaryota', 'Viridiplantae', 'Streptophyta', 'Embryophyta', 'Tracheophyta', 'Spermatophyta', 'Magnoliophyta', 'Liliopsida', 'Asparagales', 'Orchidaceae', 'Cypripedioideae', 'Cypripedium'], 'references': [Reference(title='Phylogenetics of the slipper orchids (Cypripedioideae: Orchidaceae): nuclear rDNA ITS sequences', ...), Reference(title='Direct Submission', ...)]}\n"
     ]
    }
   ],
   "source": [
    "print(first_record.annotations)"
   ]
  },
  {
   "cell_type": "code",
   "execution_count": 33,
   "metadata": {},
   "outputs": [
    {
     "output_type": "stream",
     "name": "stdout",
     "text": [
      "dict_keys(['molecule_type', 'topology', 'data_file_division', 'date', 'accessions', 'sequence_version', 'gi', 'keywords', 'source', 'organism', 'taxonomy', 'references'])\n"
     ]
    }
   ],
   "source": [
    "print(first_record.annotations.keys())"
   ]
  },
  {
   "cell_type": "code",
   "execution_count": 34,
   "metadata": {},
   "outputs": [
    {
     "output_type": "stream",
     "name": "stdout",
     "text": [
      "dict_values(['DNA', 'linear', 'PLN', '30-NOV-2006', ['Z78533'], 1, '2765658', ['5.8S ribosomal RNA', '5.8S rRNA gene', 'internal transcribed spacer', 'ITS1', 'ITS2'], 'Cypripedium irapeanum', 'Cypripedium irapeanum', ['Eukaryota', 'Viridiplantae', 'Streptophyta', 'Embryophyta', 'Tracheophyta', 'Spermatophyta', 'Magnoliophyta', 'Liliopsida', 'Asparagales', 'Orchidaceae', 'Cypripedioideae', 'Cypripedium'], [Reference(title='Phylogenetics of the slipper orchids (Cypripedioideae: Orchidaceae): nuclear rDNA ITS sequences', ...), Reference(title='Direct Submission', ...)]])\n"
     ]
    }
   ],
   "source": [
    "print(first_record.annotations.values())"
   ]
  },
  {
   "source": [
    "### Example: Get all species"
   ],
   "cell_type": "markdown",
   "metadata": {}
  },
  {
   "cell_type": "code",
   "execution_count": 35,
   "metadata": {},
   "outputs": [
    {
     "output_type": "stream",
     "name": "stdout",
     "text": [
      "['Cypripedium irapeanum', 'Cypripedium californicum', 'Cypripedium fasciculatum', 'Cypripedium margaritaceum', 'Cypripedium lichiangense', 'Cypripedium yatabeanum', 'Cypripedium guttatum', 'Cypripedium acaule', 'Cypripedium formosanum', 'Cypripedium himalaicum', 'Cypripedium macranthon', 'Cypripedium calceolus', 'Cypripedium segawai', 'Cypripedium parviflorum var. pubescens', 'Cypripedium reginae', 'Cypripedium flavum', 'Cypripedium passerinum', 'Mexipedium xerophyticum', 'Phragmipedium schlimii', 'Phragmipedium besseae', 'Phragmipedium wallisii', 'Phragmipedium exstaminodium', 'Phragmipedium caricinum', 'Phragmipedium pearcei', 'Phragmipedium longifolium', 'Phragmipedium lindenii', 'Phragmipedium lindleyanum', 'Phragmipedium sargentianum', 'Phragmipedium kaiteurum', 'Phragmipedium czerwiakowianum', 'Phragmipedium boissierianum', 'Phragmipedium caudatum', 'Phragmipedium warszewiczianum', 'Paphiopedilum micranthum', 'Paphiopedilum malipoense', 'Paphiopedilum delenatii', 'Paphiopedilum armeniacum', 'Paphiopedilum emersonii', 'Paphiopedilum niveum', 'Paphiopedilum godefroyae', 'Paphiopedilum bellatulum', 'Paphiopedilum concolor', 'Paphiopedilum fairrieanum', 'Paphiopedilum druryi', 'Paphiopedilum tigrinum', 'Paphiopedilum hirsutissimum', 'Paphiopedilum barbigerum', 'Paphiopedilum henryanum', 'Paphiopedilum charlesworthii', 'Paphiopedilum villosum', 'Paphiopedilum exul', 'Paphiopedilum insigne', 'Paphiopedilum gratrixianum', 'Paphiopedilum primulinum', 'Paphiopedilum victoria', 'Paphiopedilum victoria', 'Paphiopedilum glaucophyllum', 'Paphiopedilum supardii', 'Paphiopedilum kolopakingii', 'Paphiopedilum sanderianum', 'Paphiopedilum lowii', 'Paphiopedilum dianthum', 'Paphiopedilum parishii', 'Paphiopedilum haynaldianum', 'Paphiopedilum adductum', 'Paphiopedilum stonei', 'Paphiopedilum philippinense', 'Paphiopedilum rothschildianum', 'Paphiopedilum glanduliferum', 'Paphiopedilum glanduliferum', 'Paphiopedilum sukhakulii', 'Paphiopedilum wardii', 'Paphiopedilum ciliolare', 'Paphiopedilum dayanum', 'Paphiopedilum hennisianum', 'Paphiopedilum callosum', 'Paphiopedilum tonsum', 'Paphiopedilum javanicum', 'Paphiopedilum fowliei', 'Paphiopedilum schoseri', 'Paphiopedilum bougainvilleanum', 'Paphiopedilum hookerae', 'Paphiopedilum papuanum', 'Paphiopedilum mastersianum', 'Paphiopedilum argus', 'Paphiopedilum venustum', 'Paphiopedilum acmodontum', 'Paphiopedilum urbanianum', 'Paphiopedilum appletonianum', 'Paphiopedilum lawrenceanum', 'Paphiopedilum bullenianum', 'Paphiopedilum superbiens', 'Paphiopedilum purpuratum', 'Paphiopedilum barbatum']\n"
     ]
    }
   ],
   "source": [
    "from Bio import SeqIO\n",
    "all_species = []\n",
    "[ all_species.append(seq_record.annotations[\"organism\"]) for seq_record in SeqIO.parse(genbank_path, \"genbank\")]\n",
    "print(all_species)"
   ]
  },
  {
   "source": [
    "## 5.1.5 Modifying data"
   ],
   "cell_type": "markdown",
   "metadata": {}
  },
  {
   "cell_type": "code",
   "execution_count": 37,
   "metadata": {},
   "outputs": [
    {
     "output_type": "stream",
     "name": "stdout",
     "text": [
      ">new_id desired new description\nCGTAACAAGGTTTCCGTAGGTGAACCTGCGGAAGGATCATTGATGAGACCGTGGAATAAA\nCGATCGAGTGAATCCGGAGGACCGGTGTACTCAGCTCACCGGGGGCATTGCTCCCGTGGT\nGACCCTGATTTGTTGTTGGGCCGCCTCGGGAGCGTCCATGGCGGGT\n"
     ]
    }
   ],
   "source": [
    "from Bio import SeqIO\n",
    "record_iterator = SeqIO.parse(fasta_path, \"fasta\")\n",
    "first_record = next(record_iterator)\n",
    "first_record.id = \"new_id\"\n",
    "first_record.description = first_record.id + \" \" + \"desired new description\"\n",
    "print(first_record.format(\"fasta\")[:200])"
   ]
  },
  {
   "source": [
    "### Zipped files"
   ],
   "cell_type": "markdown",
   "metadata": {}
  },
  {
   "cell_type": "code",
   "execution_count": 42,
   "metadata": {},
   "outputs": [
    {
     "output_type": "stream",
     "name": "stdout",
     "text": [
      "67518\n"
     ]
    }
   ],
   "source": [
    "genbank_zipped = \"https://raw.githubusercontent.com/biopython/biopython/master/Doc/examples/ls_orchid.gbk.gz\"\n",
    "\n",
    "path = tempfile.mkdtemp()\n",
    "wget.download(genbank_zipped, out=path)\n",
    "\n",
    "from pathlib import Path\n",
    "genbank_zip_path = Path(path + \"/ls_orchid.gbk.gz\")\n",
    "\n",
    "import gzip\n",
    "from Bio import SeqIO\n",
    "with gzip.open(genbank_zip_path, \"rt\") as handle:\n",
    "    print(sum(len(r) for r in SeqIO.parse(handle, \"gb\")))"
   ]
  },
  {
   "source": [
    "# 5.3 Parsing sequences from the net\n",
    "\n",
    "## 5.3.1 Parsing GenBank records from the net\n",
    "\n",
    "* Get a few Opuntia (prickly-pear) sequences from GenBank using their GI numbers"
   ],
   "cell_type": "markdown",
   "metadata": {}
  },
  {
   "source": [
    "### FASTA"
   ],
   "cell_type": "markdown",
   "metadata": {}
  },
  {
   "cell_type": "code",
   "execution_count": 44,
   "metadata": {},
   "outputs": [
    {
     "output_type": "stream",
     "name": "stdout",
     "text": [
      "AF191665.1 with 0 features\n"
     ]
    }
   ],
   "source": [
    "from Bio import Entrez\n",
    "from Bio import SeqIO\n",
    "\n",
    "Entrez.email = \"XXX@YYY.com\"\n",
    "with Entrez.efetch( db=\"nucleotide\", rettype=\"fasta\", retmode=\"text\", id=\"6273291\" ) as handle:\n",
    "    seq_record = SeqIO.read(handle, \"fasta\")\n",
    "    print(\"%s with %i features\" % (seq_record.id, len(seq_record.features)))"
   ]
  },
  {
   "source": [
    "### Genbank = gb"
   ],
   "cell_type": "markdown",
   "metadata": {}
  },
  {
   "cell_type": "code",
   "execution_count": 45,
   "metadata": {},
   "outputs": [
    {
     "output_type": "stream",
     "name": "stdout",
     "text": [
      "AF191665.1 with 3 features\n"
     ]
    }
   ],
   "source": [
    "from Bio import Entrez\n",
    "from Bio import SeqIO\n",
    "\n",
    "Entrez.email = \"XXX@YYY.com\"\n",
    "with Entrez.efetch( db=\"nucleotide\", rettype=\"gb\", retmode=\"text\", id=\"6273291\" ) as handle:\n",
    "    seq_record = SeqIO.read(handle, \"gb\")\n",
    "    print(\"%s with %i features\" % (seq_record.id, len(seq_record.features)))"
   ]
  },
  {
   "source": [
    "### Multiple records"
   ],
   "cell_type": "markdown",
   "metadata": {}
  },
  {
   "cell_type": "code",
   "execution_count": 48,
   "metadata": {},
   "outputs": [
    {
     "output_type": "stream",
     "name": "stdout",
     "text": [
      "AF191665.1 Opuntia marenae rpl16 gene; chloroplast gene for c...\nSequence length 902, 3 features, from: chloroplast Grusonia marenae\nAF191664.1 Opuntia clavata rpl16 gene; chloroplast gene for c...\nSequence length 899, 3 features, from: chloroplast Grusonia clavata\nAF191663.1 Opuntia bradtiana rpl16 gene; chloroplast gene for...\nSequence length 899, 3 features, from: chloroplast Grusonia bradtiana\n"
     ]
    }
   ],
   "source": [
    "from Bio import Entrez\n",
    "from Bio import SeqIO\n",
    "\n",
    "Entrez.email = \"XXX@YYY.com\"\n",
    "with Entrez.efetch( db=\"nucleotide\", rettype=\"gb\", retmode=\"text\", id=\"6273291,6273290,6273289\" ) as handle:\n",
    "    for seq_record in SeqIO.parse(handle, \"gb\"):\n",
    "        print(\"%s %s...\" % (seq_record.id, seq_record.description[:50]))\n",
    "        print( \"Sequence length %i, %i features, from: %s\"\n",
    "        % (\n",
    "            len(seq_record),\n",
    "            len(seq_record.features),\n",
    "            seq_record.annotations[\"source\"],\n",
    "        )\n",
    "    )"
   ]
  },
  {
   "source": [
    "## 5.3.2 Parsing SwissProt sequences from the net"
   ],
   "cell_type": "markdown",
   "metadata": {}
  },
  {
   "cell_type": "code",
   "execution_count": 49,
   "metadata": {},
   "outputs": [
    {
     "output_type": "stream",
     "name": "stdout",
     "text": [
      "O23729\nCHS3_BROFI\nRecName: Full=Chalcone synthase 3; EC=2.3.1.74; AltName: Full=Naringenin-chalcone synthase 3;\nSeq('MAPAMEEIRQAQRAEGPAAVLAIGTSTPPNALYQADYPDYYFRITKSEHLTELK...GAE')\nLength 394\n['Acyltransferase', 'Flavonoid biosynthesis', 'Transferase']\n"
     ]
    }
   ],
   "source": [
    "from Bio import ExPASy\n",
    "from Bio import SeqIO\n",
    "with ExPASy.get_sprot_raw(\"O23729\") as handle:\n",
    "    seq_record = SeqIO.read(handle, \"swiss\")\n",
    "print(seq_record.id)\n",
    "print(seq_record.name)\n",
    "print(seq_record.description)\n",
    "print(repr(seq_record.seq))\n",
    "print(\"Length %i\" % len(seq_record))\n",
    "print(seq_record.annotations[\"keywords\"])"
   ]
  },
  {
   "source": [
    "# 5.4 Sequence \fles as Dictionaries\n",
    "\n",
    "* **Bio.SeqIO.to_dict()** is the most exible but also the most memory demanding option (see Section 5.4.1). This is basically a helper function to build a normal Python dictionary with each entry held as a SeqRecord object in memory, allowing you to modify the records.\n",
    "* **Bio.SeqIO.index()** is a useful middle ground, acting like a read only dictionary and parsing sequences into SeqRecord objects on demand (see Section 5.4.2).\n",
    "* **Bio.SeqIO.index_db()** also acts like a read only dictionary but stores the identi\fers and \ffile o\u000bsets in a file on disk (as an SQLite3 database), meaning it has very low memory requirements (see Section 5.4.3), but will be a little bit slower."
   ],
   "cell_type": "markdown",
   "metadata": {}
  },
  {
   "source": [
    "## 5.4.1 Sequence \fles as Dictionaries { In memory"
   ],
   "cell_type": "markdown",
   "metadata": {}
  },
  {
   "cell_type": "code",
   "execution_count": 58,
   "metadata": {},
   "outputs": [
    {
     "output_type": "execute_result",
     "data": {
      "text/plain": [
       "dict_keys(['Z78533.1', 'Z78532.1', 'Z78531.1', 'Z78530.1', 'Z78529.1', 'Z78527.1', 'Z78526.1', 'Z78525.1', 'Z78524.1', 'Z78523.1', 'Z78522.1', 'Z78521.1', 'Z78520.1', 'Z78519.1', 'Z78518.1', 'Z78517.1', 'Z78516.1', 'Z78515.1', 'Z78514.1', 'Z78513.1', 'Z78512.1', 'Z78511.1', 'Z78510.1', 'Z78509.1', 'Z78508.1', 'Z78507.1', 'Z78506.1', 'Z78505.1', 'Z78504.1', 'Z78503.1', 'Z78502.1', 'Z78501.1', 'Z78500.1', 'Z78499.1', 'Z78498.1', 'Z78497.1', 'Z78496.1', 'Z78495.1', 'Z78494.1', 'Z78493.1', 'Z78492.1', 'Z78491.1', 'Z78490.1', 'Z78489.1', 'Z78488.1', 'Z78487.1', 'Z78486.1', 'Z78485.1', 'Z78484.1', 'Z78483.1', 'Z78482.1', 'Z78481.1', 'Z78480.1', 'Z78479.1', 'Z78478.1', 'Z78477.1', 'Z78476.1', 'Z78475.1', 'Z78474.1', 'Z78473.1', 'Z78472.1', 'Z78471.1', 'Z78470.1', 'Z78469.1', 'Z78468.1', 'Z78467.1', 'Z78466.1', 'Z78465.1', 'Z78464.1', 'Z78463.1', 'Z78462.1', 'Z78461.1', 'Z78460.1', 'Z78459.1', 'Z78458.1', 'Z78457.1', 'Z78456.1', 'Z78455.1', 'Z78454.1', 'Z78453.1', 'Z78452.1', 'Z78451.1', 'Z78450.1', 'Z78449.1', 'Z78448.1', 'Z78447.1', 'Z78446.1', 'Z78445.1', 'Z78444.1', 'Z78443.1', 'Z78442.1', 'Z78441.1', 'Z78440.1', 'Z78439.1'])"
      ]
     },
     "metadata": {},
     "execution_count": 58
    }
   ],
   "source": [
    "from Bio import SeqIO\n",
    "orchid_dict = SeqIO.to_dict(SeqIO.parse(genbank_path, \"genbank\"))\n",
    "orchid_dict.keys()"
   ]
  },
  {
   "cell_type": "code",
   "execution_count": 59,
   "metadata": {},
   "outputs": [
    {
     "output_type": "execute_result",
     "data": {
      "text/plain": [
       "SeqRecord(seq=Seq('CGTAACAAGGTTTCCGTAGGTGAACCTGCGGAAGGATCATTGATGAGACCGTGG...CGC'), id='Z78533.1', name='Z78533', description='C.irapeanum 5.8S rRNA gene and ITS1 and ITS2 DNA', dbxrefs=[])"
      ]
     },
     "metadata": {},
     "execution_count": 59
    }
   ],
   "source": [
    "orchid_dict['Z78533.1']"
   ]
  },
  {
   "cell_type": "code",
   "execution_count": 60,
   "metadata": {},
   "outputs": [
    {
     "output_type": "execute_result",
     "data": {
      "text/plain": [
       "'C.irapeanum 5.8S rRNA gene and ITS1 and ITS2 DNA'"
      ]
     },
     "metadata": {},
     "execution_count": 60
    }
   ],
   "source": [
    "orchid_dict['Z78533.1'].description"
   ]
  },
  {
   "source": [
    "## 5.4.2 Sequence files as Dictionaries - Indexed files\n",
    "For larger \fles you should consider **Bio.SeqIO.index()**, which works a little di\u000berently. Although it still returns a dictionary like object, this does not keep everything in memory"
   ],
   "cell_type": "markdown",
   "metadata": {}
  },
  {
   "cell_type": "code",
   "execution_count": 69,
   "metadata": {},
   "outputs": [
    {
     "output_type": "error",
     "ename": "FileNotFoundError",
     "evalue": "[Errno 2] No such file or directory: '/var/folders/mm/p1xy0ww12kxczrm_hhtmc9f40000gn/T/tmpm27_kgly/ls_orchid.gbk'",
     "traceback": [
      "\u001b[0;31m---------------------------------------------------------------------------\u001b[0m",
      "\u001b[0;31mFileNotFoundError\u001b[0m                         Traceback (most recent call last)",
      "\u001b[0;32m<ipython-input-69-26ff3fca1619>\u001b[0m in \u001b[0;36m<module>\u001b[0;34m\u001b[0m\n\u001b[1;32m      1\u001b[0m \u001b[0;32mfrom\u001b[0m \u001b[0mBio\u001b[0m \u001b[0;32mimport\u001b[0m \u001b[0mSeqIO\u001b[0m\u001b[0;34m\u001b[0m\u001b[0;34m\u001b[0m\u001b[0m\n\u001b[1;32m      2\u001b[0m \u001b[0mpath\u001b[0m \u001b[0;34m+\u001b[0m \u001b[0;34m\"/ls_orchid.gbk.gz\"\u001b[0m\u001b[0;34m\u001b[0m\u001b[0;34m\u001b[0m\u001b[0m\n\u001b[0;32m----> 3\u001b[0;31m \u001b[0morchid_dict\u001b[0m \u001b[0;34m=\u001b[0m \u001b[0mSeqIO\u001b[0m\u001b[0;34m.\u001b[0m\u001b[0mindex\u001b[0m\u001b[0;34m(\u001b[0m\u001b[0mpath\u001b[0m \u001b[0;34m+\u001b[0m \u001b[0;34m\"/ls_orchid.gbk\"\u001b[0m\u001b[0;34m,\u001b[0m \u001b[0;34m\"genbank\"\u001b[0m\u001b[0;34m)\u001b[0m\u001b[0;34m\u001b[0m\u001b[0;34m\u001b[0m\u001b[0m\n\u001b[0m\u001b[1;32m      4\u001b[0m \u001b[0mlen\u001b[0m\u001b[0;34m(\u001b[0m\u001b[0morchid_dict\u001b[0m\u001b[0;34m)\u001b[0m\u001b[0;34m\u001b[0m\u001b[0;34m\u001b[0m\u001b[0m\n",
      "\u001b[0;32m/Library/Frameworks/Python.framework/Versions/3.8/lib/python3.8/site-packages/Bio/SeqIO/__init__.py\u001b[0m in \u001b[0;36mindex\u001b[0;34m(filename, format, alphabet, key_function)\u001b[0m\n\u001b[1;32m    876\u001b[0m     )\n\u001b[1;32m    877\u001b[0m     return _IndexedSeqFileDict(\n\u001b[0;32m--> 878\u001b[0;31m         \u001b[0mproxy_class\u001b[0m\u001b[0;34m(\u001b[0m\u001b[0mfilename\u001b[0m\u001b[0;34m,\u001b[0m \u001b[0mformat\u001b[0m\u001b[0;34m)\u001b[0m\u001b[0;34m,\u001b[0m \u001b[0mkey_function\u001b[0m\u001b[0;34m,\u001b[0m \u001b[0mrepr\u001b[0m\u001b[0;34m,\u001b[0m \u001b[0;34m\"SeqRecord\"\u001b[0m\u001b[0;34m\u001b[0m\u001b[0;34m\u001b[0m\u001b[0m\n\u001b[0m\u001b[1;32m    879\u001b[0m     )\n\u001b[1;32m    880\u001b[0m \u001b[0;34m\u001b[0m\u001b[0m\n",
      "\u001b[0;32m/Library/Frameworks/Python.framework/Versions/3.8/lib/python3.8/site-packages/Bio/SeqIO/_index.py\u001b[0m in \u001b[0;36m__init__\u001b[0;34m(self, filename, format)\u001b[0m\n\u001b[1;32m    178\u001b[0m     \u001b[0;32mdef\u001b[0m \u001b[0m__init__\u001b[0m\u001b[0;34m(\u001b[0m\u001b[0mself\u001b[0m\u001b[0;34m,\u001b[0m \u001b[0mfilename\u001b[0m\u001b[0;34m,\u001b[0m \u001b[0mformat\u001b[0m\u001b[0;34m)\u001b[0m\u001b[0;34m:\u001b[0m\u001b[0;34m\u001b[0m\u001b[0;34m\u001b[0m\u001b[0m\n\u001b[1;32m    179\u001b[0m         \u001b[0;34m\"\"\"Initialize the class.\"\"\"\u001b[0m\u001b[0;34m\u001b[0m\u001b[0;34m\u001b[0m\u001b[0m\n\u001b[0;32m--> 180\u001b[0;31m         \u001b[0mSeqFileRandomAccess\u001b[0m\u001b[0;34m.\u001b[0m\u001b[0m__init__\u001b[0m\u001b[0;34m(\u001b[0m\u001b[0mself\u001b[0m\u001b[0;34m,\u001b[0m \u001b[0mfilename\u001b[0m\u001b[0;34m,\u001b[0m \u001b[0mformat\u001b[0m\u001b[0;34m)\u001b[0m\u001b[0;34m\u001b[0m\u001b[0;34m\u001b[0m\u001b[0m\n\u001b[0m\u001b[1;32m    181\u001b[0m         marker = {\n\u001b[1;32m    182\u001b[0m             \u001b[0;34m\"ace\"\u001b[0m\u001b[0;34m:\u001b[0m \u001b[0;34mb\"CO \"\u001b[0m\u001b[0;34m,\u001b[0m\u001b[0;34m\u001b[0m\u001b[0;34m\u001b[0m\u001b[0m\n",
      "\u001b[0;32m/Library/Frameworks/Python.framework/Versions/3.8/lib/python3.8/site-packages/Bio/SeqIO/_index.py\u001b[0m in \u001b[0;36m__init__\u001b[0;34m(self, filename, format)\u001b[0m\n\u001b[1;32m     41\u001b[0m     \u001b[0;32mdef\u001b[0m \u001b[0m__init__\u001b[0m\u001b[0;34m(\u001b[0m\u001b[0mself\u001b[0m\u001b[0;34m,\u001b[0m \u001b[0mfilename\u001b[0m\u001b[0;34m,\u001b[0m \u001b[0mformat\u001b[0m\u001b[0;34m)\u001b[0m\u001b[0;34m:\u001b[0m\u001b[0;34m\u001b[0m\u001b[0;34m\u001b[0m\u001b[0m\n\u001b[1;32m     42\u001b[0m         \u001b[0;34m\"\"\"Initialize the class.\"\"\"\u001b[0m\u001b[0;34m\u001b[0m\u001b[0;34m\u001b[0m\u001b[0m\n\u001b[0;32m---> 43\u001b[0;31m         \u001b[0mself\u001b[0m\u001b[0;34m.\u001b[0m\u001b[0m_handle\u001b[0m \u001b[0;34m=\u001b[0m \u001b[0m_open_for_random_access\u001b[0m\u001b[0;34m(\u001b[0m\u001b[0mfilename\u001b[0m\u001b[0;34m)\u001b[0m\u001b[0;34m\u001b[0m\u001b[0;34m\u001b[0m\u001b[0m\n\u001b[0m\u001b[1;32m     44\u001b[0m         \u001b[0mself\u001b[0m\u001b[0;34m.\u001b[0m\u001b[0m_format\u001b[0m \u001b[0;34m=\u001b[0m \u001b[0mformat\u001b[0m\u001b[0;34m\u001b[0m\u001b[0;34m\u001b[0m\u001b[0m\n\u001b[1;32m     45\u001b[0m         \u001b[0;31m# Load the parser class/function once an avoid the dict lookup in each\u001b[0m\u001b[0;34m\u001b[0m\u001b[0;34m\u001b[0m\u001b[0;34m\u001b[0m\u001b[0m\n",
      "\u001b[0;32m/Library/Frameworks/Python.framework/Versions/3.8/lib/python3.8/site-packages/Bio/File.py\u001b[0m in \u001b[0;36m_open_for_random_access\u001b[0;34m(filename)\u001b[0m\n\u001b[1;32m     84\u001b[0m     \u001b[0mIf\u001b[0m \u001b[0mthe\u001b[0m \u001b[0mfile\u001b[0m \u001b[0;32mis\u001b[0m \u001b[0mgzipped\u001b[0m \u001b[0mbut\u001b[0m \u001b[0;32mnot\u001b[0m \u001b[0mBGZF\u001b[0m\u001b[0;34m,\u001b[0m \u001b[0ma\u001b[0m \u001b[0mspecific\u001b[0m \u001b[0mValueError\u001b[0m \u001b[0;32mis\u001b[0m \u001b[0mraised\u001b[0m\u001b[0;34m.\u001b[0m\u001b[0;34m\u001b[0m\u001b[0;34m\u001b[0m\u001b[0m\n\u001b[1;32m     85\u001b[0m     \"\"\"\n\u001b[0;32m---> 86\u001b[0;31m     \u001b[0mhandle\u001b[0m \u001b[0;34m=\u001b[0m \u001b[0mopen\u001b[0m\u001b[0;34m(\u001b[0m\u001b[0mfilename\u001b[0m\u001b[0;34m,\u001b[0m \u001b[0;34m\"rb\"\u001b[0m\u001b[0;34m)\u001b[0m\u001b[0;34m\u001b[0m\u001b[0;34m\u001b[0m\u001b[0m\n\u001b[0m\u001b[1;32m     87\u001b[0m     \u001b[0mmagic\u001b[0m \u001b[0;34m=\u001b[0m \u001b[0mhandle\u001b[0m\u001b[0;34m.\u001b[0m\u001b[0mread\u001b[0m\u001b[0;34m(\u001b[0m\u001b[0;36m2\u001b[0m\u001b[0;34m)\u001b[0m\u001b[0;34m\u001b[0m\u001b[0;34m\u001b[0m\u001b[0m\n\u001b[1;32m     88\u001b[0m     \u001b[0mhandle\u001b[0m\u001b[0;34m.\u001b[0m\u001b[0mseek\u001b[0m\u001b[0;34m(\u001b[0m\u001b[0;36m0\u001b[0m\u001b[0;34m)\u001b[0m\u001b[0;34m\u001b[0m\u001b[0;34m\u001b[0m\u001b[0m\n",
      "\u001b[0;31mFileNotFoundError\u001b[0m: [Errno 2] No such file or directory: '/var/folders/mm/p1xy0ww12kxczrm_hhtmc9f40000gn/T/tmpm27_kgly/ls_orchid.gbk'"
     ]
    }
   ],
   "source": [
    "from Bio import SeqIO\n",
    "path + \"/ls_orchid.gbk.gz\"\n",
    "orchid_dict = SeqIO.index(path + \"/ls_orchid.gbk\", \"genbank\")\n",
    "len(orchid_dict)"
   ]
  },
  {
   "source": [
    "### 5.4.2.2 Getting the raw data for a record"
   ],
   "cell_type": "markdown",
   "metadata": {}
  },
  {
   "source": [
    "Not running on cloud because of high storage needs"
   ],
   "cell_type": "markdown",
   "metadata": {}
  },
  {
   "cell_type": "code",
   "execution_count": 72,
   "metadata": {},
   "outputs": [
    {
     "output_type": "error",
     "ename": "KeyboardInterrupt",
     "evalue": "",
     "traceback": [
      "\u001b[0;31m---------------------------------------------------------------------------\u001b[0m",
      "\u001b[0;31mKeyboardInterrupt\u001b[0m                         Traceback (most recent call last)",
      "\u001b[0;32m<ipython-input-72-e02fd5dea19c>\u001b[0m in \u001b[0;36m<module>\u001b[0;34m\u001b[0m\n\u001b[1;32m      2\u001b[0m \u001b[0;34m\u001b[0m\u001b[0m\n\u001b[1;32m      3\u001b[0m \u001b[0mpath\u001b[0m \u001b[0;34m=\u001b[0m \u001b[0mtempfile\u001b[0m\u001b[0;34m.\u001b[0m\u001b[0mmkdtemp\u001b[0m\u001b[0;34m(\u001b[0m\u001b[0;34m)\u001b[0m\u001b[0;34m\u001b[0m\u001b[0;34m\u001b[0m\u001b[0m\n\u001b[0;32m----> 4\u001b[0;31m \u001b[0mwget\u001b[0m\u001b[0;34m.\u001b[0m\u001b[0mdownload\u001b[0m\u001b[0;34m(\u001b[0m\u001b[0murl\u001b[0m\u001b[0;34m,\u001b[0m \u001b[0mout\u001b[0m\u001b[0;34m=\u001b[0m\u001b[0mpath\u001b[0m\u001b[0;34m)\u001b[0m\u001b[0;34m\u001b[0m\u001b[0;34m\u001b[0m\u001b[0m\n\u001b[0m\u001b[1;32m      5\u001b[0m \u001b[0;34m\u001b[0m\u001b[0m\n\u001b[1;32m      6\u001b[0m \u001b[0;32mfrom\u001b[0m \u001b[0mpathlib\u001b[0m \u001b[0;32mimport\u001b[0m \u001b[0mPath\u001b[0m\u001b[0;34m\u001b[0m\u001b[0;34m\u001b[0m\u001b[0m\n",
      "\u001b[0;32m~/Library/Python/3.8/lib/python/site-packages/wget.py\u001b[0m in \u001b[0;36mdownload\u001b[0;34m(url, out, bar)\u001b[0m\n\u001b[1;32m    524\u001b[0m     \u001b[0;32melse\u001b[0m\u001b[0;34m:\u001b[0m\u001b[0;34m\u001b[0m\u001b[0;34m\u001b[0m\u001b[0m\n\u001b[1;32m    525\u001b[0m         \u001b[0mbinurl\u001b[0m \u001b[0;34m=\u001b[0m \u001b[0murl\u001b[0m\u001b[0;34m\u001b[0m\u001b[0;34m\u001b[0m\u001b[0m\n\u001b[0;32m--> 526\u001b[0;31m     \u001b[0;34m(\u001b[0m\u001b[0mtmpfile\u001b[0m\u001b[0;34m,\u001b[0m \u001b[0mheaders\u001b[0m\u001b[0;34m)\u001b[0m \u001b[0;34m=\u001b[0m \u001b[0mulib\u001b[0m\u001b[0;34m.\u001b[0m\u001b[0murlretrieve\u001b[0m\u001b[0;34m(\u001b[0m\u001b[0mbinurl\u001b[0m\u001b[0;34m,\u001b[0m \u001b[0mtmpfile\u001b[0m\u001b[0;34m,\u001b[0m \u001b[0mcallback\u001b[0m\u001b[0;34m)\u001b[0m\u001b[0;34m\u001b[0m\u001b[0;34m\u001b[0m\u001b[0m\n\u001b[0m\u001b[1;32m    527\u001b[0m     \u001b[0mfilename\u001b[0m \u001b[0;34m=\u001b[0m \u001b[0mdetect_filename\u001b[0m\u001b[0;34m(\u001b[0m\u001b[0murl\u001b[0m\u001b[0;34m,\u001b[0m \u001b[0mout\u001b[0m\u001b[0;34m,\u001b[0m \u001b[0mheaders\u001b[0m\u001b[0;34m)\u001b[0m\u001b[0;34m\u001b[0m\u001b[0;34m\u001b[0m\u001b[0m\n\u001b[1;32m    528\u001b[0m     \u001b[0;32mif\u001b[0m \u001b[0moutdir\u001b[0m\u001b[0;34m:\u001b[0m\u001b[0;34m\u001b[0m\u001b[0;34m\u001b[0m\u001b[0m\n",
      "\u001b[0;32m/Library/Frameworks/Python.framework/Versions/3.8/lib/python3.8/urllib/request.py\u001b[0m in \u001b[0;36murlretrieve\u001b[0;34m(url, filename, reporthook, data)\u001b[0m\n\u001b[1;32m    274\u001b[0m \u001b[0;34m\u001b[0m\u001b[0m\n\u001b[1;32m    275\u001b[0m             \u001b[0;32mwhile\u001b[0m \u001b[0;32mTrue\u001b[0m\u001b[0;34m:\u001b[0m\u001b[0;34m\u001b[0m\u001b[0;34m\u001b[0m\u001b[0m\n\u001b[0;32m--> 276\u001b[0;31m                 \u001b[0mblock\u001b[0m \u001b[0;34m=\u001b[0m \u001b[0mfp\u001b[0m\u001b[0;34m.\u001b[0m\u001b[0mread\u001b[0m\u001b[0;34m(\u001b[0m\u001b[0mbs\u001b[0m\u001b[0;34m)\u001b[0m\u001b[0;34m\u001b[0m\u001b[0;34m\u001b[0m\u001b[0m\n\u001b[0m\u001b[1;32m    277\u001b[0m                 \u001b[0;32mif\u001b[0m \u001b[0;32mnot\u001b[0m \u001b[0mblock\u001b[0m\u001b[0;34m:\u001b[0m\u001b[0;34m\u001b[0m\u001b[0;34m\u001b[0m\u001b[0m\n\u001b[1;32m    278\u001b[0m                     \u001b[0;32mbreak\u001b[0m\u001b[0;34m\u001b[0m\u001b[0;34m\u001b[0m\u001b[0m\n",
      "\u001b[0;32m/Library/Frameworks/Python.framework/Versions/3.8/lib/python3.8/tempfile.py\u001b[0m in \u001b[0;36mfunc_wrapper\u001b[0;34m(*args, **kwargs)\u001b[0m\n\u001b[1;32m    472\u001b[0m             \u001b[0;34m@\u001b[0m\u001b[0m_functools\u001b[0m\u001b[0;34m.\u001b[0m\u001b[0mwraps\u001b[0m\u001b[0;34m(\u001b[0m\u001b[0mfunc\u001b[0m\u001b[0;34m)\u001b[0m\u001b[0;34m\u001b[0m\u001b[0;34m\u001b[0m\u001b[0m\n\u001b[1;32m    473\u001b[0m             \u001b[0;32mdef\u001b[0m \u001b[0mfunc_wrapper\u001b[0m\u001b[0;34m(\u001b[0m\u001b[0;34m*\u001b[0m\u001b[0margs\u001b[0m\u001b[0;34m,\u001b[0m \u001b[0;34m**\u001b[0m\u001b[0mkwargs\u001b[0m\u001b[0;34m)\u001b[0m\u001b[0;34m:\u001b[0m\u001b[0;34m\u001b[0m\u001b[0;34m\u001b[0m\u001b[0m\n\u001b[0;32m--> 474\u001b[0;31m                 \u001b[0;32mreturn\u001b[0m \u001b[0mfunc\u001b[0m\u001b[0;34m(\u001b[0m\u001b[0;34m*\u001b[0m\u001b[0margs\u001b[0m\u001b[0;34m,\u001b[0m \u001b[0;34m**\u001b[0m\u001b[0mkwargs\u001b[0m\u001b[0;34m)\u001b[0m\u001b[0;34m\u001b[0m\u001b[0;34m\u001b[0m\u001b[0m\n\u001b[0m\u001b[1;32m    475\u001b[0m             \u001b[0;31m# Avoid closing the file as long as the wrapper is alive,\u001b[0m\u001b[0;34m\u001b[0m\u001b[0;34m\u001b[0m\u001b[0;34m\u001b[0m\u001b[0m\n\u001b[1;32m    476\u001b[0m             \u001b[0;31m# see issue #18879.\u001b[0m\u001b[0;34m\u001b[0m\u001b[0;34m\u001b[0m\u001b[0;34m\u001b[0m\u001b[0m\n",
      "\u001b[0;32m/Library/Frameworks/Python.framework/Versions/3.8/lib/python3.8/tempfile.py\u001b[0m in \u001b[0;36mfunc_wrapper\u001b[0;34m(*args, **kwargs)\u001b[0m\n\u001b[1;32m    472\u001b[0m             \u001b[0;34m@\u001b[0m\u001b[0m_functools\u001b[0m\u001b[0;34m.\u001b[0m\u001b[0mwraps\u001b[0m\u001b[0;34m(\u001b[0m\u001b[0mfunc\u001b[0m\u001b[0;34m)\u001b[0m\u001b[0;34m\u001b[0m\u001b[0;34m\u001b[0m\u001b[0m\n\u001b[1;32m    473\u001b[0m             \u001b[0;32mdef\u001b[0m \u001b[0mfunc_wrapper\u001b[0m\u001b[0;34m(\u001b[0m\u001b[0;34m*\u001b[0m\u001b[0margs\u001b[0m\u001b[0;34m,\u001b[0m \u001b[0;34m**\u001b[0m\u001b[0mkwargs\u001b[0m\u001b[0;34m)\u001b[0m\u001b[0;34m:\u001b[0m\u001b[0;34m\u001b[0m\u001b[0;34m\u001b[0m\u001b[0m\n\u001b[0;32m--> 474\u001b[0;31m                 \u001b[0;32mreturn\u001b[0m \u001b[0mfunc\u001b[0m\u001b[0;34m(\u001b[0m\u001b[0;34m*\u001b[0m\u001b[0margs\u001b[0m\u001b[0;34m,\u001b[0m \u001b[0;34m**\u001b[0m\u001b[0mkwargs\u001b[0m\u001b[0;34m)\u001b[0m\u001b[0;34m\u001b[0m\u001b[0;34m\u001b[0m\u001b[0m\n\u001b[0m\u001b[1;32m    475\u001b[0m             \u001b[0;31m# Avoid closing the file as long as the wrapper is alive,\u001b[0m\u001b[0;34m\u001b[0m\u001b[0;34m\u001b[0m\u001b[0;34m\u001b[0m\u001b[0m\n\u001b[1;32m    476\u001b[0m             \u001b[0;31m# see issue #18879.\u001b[0m\u001b[0;34m\u001b[0m\u001b[0;34m\u001b[0m\u001b[0;34m\u001b[0m\u001b[0m\n",
      "\u001b[0;32m/Library/Frameworks/Python.framework/Versions/3.8/lib/python3.8/socket.py\u001b[0m in \u001b[0;36mreadinto\u001b[0;34m(self, b)\u001b[0m\n\u001b[1;32m    667\u001b[0m         \u001b[0;32mwhile\u001b[0m \u001b[0;32mTrue\u001b[0m\u001b[0;34m:\u001b[0m\u001b[0;34m\u001b[0m\u001b[0;34m\u001b[0m\u001b[0m\n\u001b[1;32m    668\u001b[0m             \u001b[0;32mtry\u001b[0m\u001b[0;34m:\u001b[0m\u001b[0;34m\u001b[0m\u001b[0;34m\u001b[0m\u001b[0m\n\u001b[0;32m--> 669\u001b[0;31m                 \u001b[0;32mreturn\u001b[0m \u001b[0mself\u001b[0m\u001b[0;34m.\u001b[0m\u001b[0m_sock\u001b[0m\u001b[0;34m.\u001b[0m\u001b[0mrecv_into\u001b[0m\u001b[0;34m(\u001b[0m\u001b[0mb\u001b[0m\u001b[0;34m)\u001b[0m\u001b[0;34m\u001b[0m\u001b[0;34m\u001b[0m\u001b[0m\n\u001b[0m\u001b[1;32m    670\u001b[0m             \u001b[0;32mexcept\u001b[0m \u001b[0mtimeout\u001b[0m\u001b[0;34m:\u001b[0m\u001b[0;34m\u001b[0m\u001b[0;34m\u001b[0m\u001b[0m\n\u001b[1;32m    671\u001b[0m                 \u001b[0mself\u001b[0m\u001b[0;34m.\u001b[0m\u001b[0m_timeout_occurred\u001b[0m \u001b[0;34m=\u001b[0m \u001b[0;32mTrue\u001b[0m\u001b[0;34m\u001b[0m\u001b[0;34m\u001b[0m\u001b[0m\n",
      "\u001b[0;31mKeyboardInterrupt\u001b[0m: "
     ]
    }
   ],
   "source": [
    "#url = \"ftp://ftp.uniprot.org/pub/databases/uniprot/current_release/knowledgebase/complete/uniprot_sprot.dat.gz\"\n",
    "#\n",
    "#path = tempfile.mkdtemp()\n",
    "#wget.download(url, out=path)\n",
    "#\n",
    "#from pathlib import Path\n",
    "#uniprot_path = Path(path + \"/uniprot_sprot.dat.gz\")\n",
    "#\n",
    "#from Bio import SeqIO\n",
    "#uniprot = SeqIO.index(uniprot_path, \"swiss\")\n",
    "#with open(\"selected.dat\", \"wb\") as out_handle:\n",
    "#    for acc in [\"P33487\", \"P19801\", \"P13689\", \"Q8JZQ5\", \"Q9TRC7\"]:\n",
    "#        out_handle.write(uniprot.get_raw(acc))"
   ]
  },
  {
   "source": [
    "## 5.4.3 Sequence files as Dictionaries - Database indexed \ffiles"
   ],
   "cell_type": "markdown",
   "metadata": {}
  },
  {
   "cell_type": "code",
   "execution_count": null,
   "metadata": {},
   "outputs": [],
   "source": [
    "url = \"ftp://ftp.ncbi.nih.gov/genbank/gbvrl1.seq.gz\"\n",
    "path = tempfile.mkdtemp()\n",
    "wget.download(url, out=path)\n",
    "\n",
    "from pathlib import Path\n",
    "gbvrl1_path = Path(path + \"/gbvrl1.seq.gz\")\n",
    "\n",
    "## TODO: extract the files"
   ]
  },
  {
   "source": [
    "## 5.4.4 Indexing compressed \ffiles"
   ],
   "cell_type": "markdown",
   "metadata": {}
  },
  {
   "cell_type": "code",
   "execution_count": null,
   "metadata": {},
   "outputs": [],
   "source": [
    "from Bio import SeqIO\n",
    "orchid_dict = SeqIO.index(\"ls_orchid.gbk\", \"genbank\")\n",
    "len(orchid_dict)"
   ]
  },
  {
   "source": [
    "# 5.5 Writing Sequence Files"
   ],
   "cell_type": "markdown",
   "metadata": {}
  },
  {
   "cell_type": "code",
   "execution_count": null,
   "metadata": {},
   "outputs": [],
   "source": [
    "from Bio.Seq import Seq\n",
    "from Bio.SeqRecord import SeqRecord"
   ]
  },
  {
   "cell_type": "code",
   "execution_count": null,
   "metadata": {},
   "outputs": [],
   "source": [
    "rec1 = SeqRecord(\n",
    "Seq(\n",
    "\"MMYQQGCFAGGTVLRLAKDLAENNRGARVLVVCSEITAVTFRGPSETHLDSMVGQALFGD\"\n",
    "\"GAGAVIVGSDPDLSVERPLYELVWTGATLLPDSEGAIDGHLREVGLTFHLLKDVPGLISK\"\n",
    "\"NIEKSLKEAFTPLGISDWNSTFWIAHPGGPAILDQVEAKLGLKEEKMRATREVLSEYGNM\"\n",
    "\"SSAC\",\n",
    "),\n",
    "id=\"gi|14150838|gb|AAK54648.1|AF376133_1\",\n",
    "description=\"chalcone synthase [Cucumis sativus]\",\n",
    ")"
   ]
  },
  {
   "cell_type": "code",
   "execution_count": null,
   "metadata": {},
   "outputs": [],
   "source": [
    "rec2 = SeqRecord(\n",
    "Seq(\n",
    "\"YPDYYFRITNREHKAELKEKFQRMCDKSMIKKRYMYLTEEILKENPSMCEYMAPSLDARQ\"\n",
    "\"DMVVVEIPKLGKEAAVKAIKEWGQ\",\n",
    "),\n",
    "id=\"gi|13919613|gb|AAK33142.1|\",\n",
    "description=\"chalcone synthase [Fragaria vesca subsp. bracteata]\",\n",
    ")"
   ]
  },
  {
   "cell_type": "code",
   "execution_count": null,
   "metadata": {},
   "outputs": [],
   "source": [
    "rec3 = SeqRecord(\n",
    "Seq(\n",
    "\"MVTVEEFRRAQCAEGPATVMAIGTATPSNCVDQSTYPDYYFRITNSEHKVELKEKFKRMC\"\n",
    "\"EKSMIKKRYMHLTEEILKENPNICAYMAPSLDARQDIVVVEVPKLGKEAAQKAIKEWGQP\"\n",
    "\"KSKITHLVFCTTSGVDMPGCDYQLTKLLGLRPSVKRFMMYQQGCFAGGTVLRMAKDLAEN\"\n",
    "\"NKGARVLVVCSEITAVTFRGPNDTHLDSLVGQALFGDGAAAVIIGSDPIPEVERPLFELV\"\n",
    "\"SAAQTLLPDSEGAIDGHLREVGLTFHLLKDVPGLISKNIEKSLVEAFQPLGISDWNSLFW\"\n",
    "\"IAHPGGPAILDQVELKLGLKQEKLKATRKVLSNYGNMSSACVLFILDEMRKASAKEGLGT\"\n",
    "\"TGEGLEWGVLFGFGPGLTVETVVLHSVAT\",\n",
    "),\n",
    "id=\"gi|13925890|gb|AAK49457.1|\",\n",
    "description=\"chalcone synthase [Nicotiana tabacum]\",\n",
    ")"
   ]
  },
  {
   "cell_type": "code",
   "execution_count": null,
   "metadata": {},
   "outputs": [],
   "source": [
    "my_records = [rec1, rec2, rec3]"
   ]
  },
  {
   "cell_type": "code",
   "execution_count": null,
   "metadata": {},
   "outputs": [],
   "source": [
    "from Bio import SeqIO\n",
    "SeqIO.write(my_records, \"my_example.faa\", \"fasta\")"
   ]
  },
  {
   "source": [
    "## 5.5.2 Converting between sequence \fle formats"
   ],
   "cell_type": "markdown",
   "metadata": {}
  },
  {
   "cell_type": "code",
   "execution_count": null,
   "metadata": {},
   "outputs": [],
   "source": [
    "from Bio import SeqIO\n",
    "count = SeqIO.convert(genbank_path, \"genbank\", \"my_example.fasta\", \"fasta\")\n",
    "print(\"Converted %i records\" % count)"
   ]
  },
  {
   "source": [
    "# 5.6 Low level FASTA and FASTQ parsers"
   ],
   "cell_type": "markdown",
   "metadata": {}
  },
  {
   "source": [
    "When parsing FASTA \fles, internally **Bio.SeqIO.parse()** calls the low-level SimpleFastaParser with the \fle handle. You can use this directly - it iterates over the \fle handle returning each record as a tuple of two strings, the title line (everything after the > character) and the sequence (as a plain string):"
   ],
   "cell_type": "markdown",
   "metadata": {}
  },
  {
   "cell_type": "code",
   "execution_count": null,
   "metadata": {},
   "outputs": [],
   "source": [
    "from Bio.SeqIO.FastaIO import SimpleFastaParser\n",
    "count = 0\n",
    "total_len = 0\n",
    "with open(fasta_path) as in_handle:\n",
    "    for title, seq in SimpleFastaParser(in_handle):\n",
    "    count += 1\n",
    "    total_len += len(seq)\n",
    "    print(\"%i records with total sequence length %i\" % (count, total_len))"
   ]
  },
  {
   "cell_type": "code",
   "execution_count": null,
   "metadata": {},
   "outputs": [],
   "source": []
  }
 ]
}