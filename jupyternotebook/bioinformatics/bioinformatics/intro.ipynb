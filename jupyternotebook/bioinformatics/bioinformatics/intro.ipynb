{
 "cells": [
  {
   "cell_type": "markdown",
   "metadata": {},
   "source": [
    "# Bioinformatics\n",
    "\n",
    "This is a jupyterbook compilation of Notebooks for bioinformatics in Python.\n",
    "\n",
    "* Biopython"
   ]
  },
  {
   "cell_type": "code",
   "execution_count": 1,
   "metadata": {},
   "outputs": [
    {
     "output_type": "stream",
     "name": "stdout",
     "text": [
      "{'commit_hash': '9ca5c4454',\n 'commit_source': 'installation',\n 'default_encoding': 'utf-8',\n 'ipython_path': '/Users/ChristianKruse '\n                 '1/Library/Python/3.8/lib/python/site-packages/IPython',\n 'ipython_version': '7.23.1',\n 'os_name': 'posix',\n 'platform': 'macOS-10.16-x86_64-i386-64bit',\n 'sys_executable': '/usr/local/bin/python',\n 'sys_platform': 'darwin',\n 'sys_version': '3.8.5 (v3.8.5:580fbb018f, Jul 20 2020, 12:11:27) \\n'\n                '[Clang 6.0 (clang-600.0.57)]'}\n"
     ]
    }
   ],
   "source": [
    "import IPython\n",
    "print( IPython.sys_info() )"
   ]
  },
  {
   "source": [
    "## How to build"
   ],
   "cell_type": "markdown",
   "metadata": {}
  },
  {
   "source": [
    "### Building the book\n",
    "\n",
    "If you'd like to develop on and build the bioinformatics book, you should:\n",
    "\n",
    "- Clone this repository and run\n",
    "- Run `pip install -r requirements.txt` (it is recommended you do this within a virtual environment)\n",
    "- (Recommended) Remove the existing `bioinformatics/_build/` directory\n",
    "- Run `jupyter-book build bioinformatics/`\n",
    "\n",
    "A fully-rendered HTML version of the book will be built in `bioinformatics/_build/html/`.\n",
    "\n",
    "### Hosting the book\n",
    "\n",
    "The html version of the book is hosted on the `gh-pages` branch of this repo. A GitHub actions workflow has been created that automatically builds and pushes the book to this branch on a push or pull request to main.\n",
    "\n",
    "If you wish to disable this automation, you may remove the GitHub actions workflow and build the book manually by:\n",
    "\n",
    "- Navigating to your local build; and running,\n",
    "- `ghp-import -n -p -f bioinformatics/_build/html`\n",
    "\n",
    "This will automatically push your build to the `gh-pages` branch. More information on this hosting process can be found [here](https://jupyterbook.org/publish/gh-pages.html#manually-host-your-book-with-github-pages)."
   ],
   "cell_type": "markdown",
   "metadata": {}
  },
  {
   "cell_type": "code",
   "execution_count": null,
   "metadata": {},
   "outputs": [],
   "source": []
  }
 ],
 "metadata": {
  "kernelspec": {
   "name": "python3",
   "display_name": "Python 3.8.5 64-bit"
  },
  "language_info": {
   "codemirror_mode": {
    "name": "ipython",
    "version": 3
   },
   "file_extension": ".py",
   "mimetype": "text/x-python",
   "name": "python",
   "nbconvert_exporter": "python",
   "pygments_lexer": "ipython3",
   "version": "3.8.5"
  },
  "widgets": {
   "application/vnd.jupyter.widget-state+json": {
    "state": {},
    "version_major": 2,
    "version_minor": 0
   }
  },
  "metadata": {
   "interpreter": {
    "hash": "4cd7ab41f5fca4b9b44701077e38c5ffd31fe66a6cab21e0214b68d958d0e462"
   }
  }
 },
 "nbformat": 4,
 "nbformat_minor": 4
}